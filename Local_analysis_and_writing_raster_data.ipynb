{
  "nbformat": 4,
  "nbformat_minor": 0,
  "metadata": {
    "colab": {
      "provenance": [],
      "authorship_tag": "ABX9TyNGrAIW3mLmcr7Ep9U3ilu0",
      "include_colab_link": true
    },
    "kernelspec": {
      "name": "python3",
      "display_name": "Python 3"
    },
    "language_info": {
      "name": "python"
    }
  },
  "cells": [
    {
      "cell_type": "markdown",
      "metadata": {
        "id": "view-in-github",
        "colab_type": "text"
      },
      "source": [
        "<a href=\"https://colab.research.google.com/github/VrishankDesai/ISRO/blob/main/Local_analysis_and_writing_raster_data.ipynb\" target=\"_parent\"><img src=\"https://colab.research.google.com/assets/colab-badge.svg\" alt=\"Open In Colab\"/></a>"
      ]
    },
    {
      "cell_type": "code",
      "execution_count": null,
      "metadata": {
        "colab": {
          "base_uri": "https://localhost:8080/"
        },
        "id": "Gty8z3TdfZCc",
        "outputId": "0d28f74e-62da-4867-a6c7-c7d2435fd237"
      },
      "outputs": [
        {
          "output_type": "stream",
          "name": "stdout",
          "text": [
            "Requirement already satisfied: GDAL in /usr/local/lib/python3.11/dist-packages (3.6.4)\n"
          ]
        }
      ],
      "source": [
        "pip install GDAL"
      ]
    },
    {
      "cell_type": "code",
      "source": [
        "from osgeo import gdal\n",
        "import cv2 as cv\n",
        "import numpy as np\n",
        "import matplotlib.pyplot as plt"
      ],
      "metadata": {
        "id": "aHL_k-J3porZ"
      },
      "execution_count": 1,
      "outputs": []
    },
    {
      "cell_type": "code",
      "source": [
        "file_name = 'BAND4.tif'"
      ],
      "metadata": {
        "id": "83SlGgsLtMUD"
      },
      "execution_count": null,
      "outputs": []
    },
    {
      "cell_type": "code",
      "source": [
        "ds = gdal.Open(file_name)"
      ],
      "metadata": {
        "id": "37g1DiUgtPLb"
      },
      "execution_count": null,
      "outputs": []
    },
    {
      "cell_type": "code",
      "source": [
        "img = ds.ReadAsArray()"
      ],
      "metadata": {
        "id": "vmAle12UtRIo"
      },
      "execution_count": null,
      "outputs": []
    },
    {
      "cell_type": "code",
      "source": [
        "res = cv.resize(img,None,fx=0.1, fy=0.1, interpolation = cv.INTER_CUBIC)"
      ],
      "metadata": {
        "id": "4_5c52O7tTk-"
      },
      "execution_count": null,
      "outputs": []
    },
    {
      "cell_type": "code",
      "source": [
        "fig, axs = plt.subplots(1, 2, figsize=(15, 10))\n",
        "axs[0].imshow(img, cmap='gray')\n",
        "axs[0].set_title('Original Iamge')\n",
        "axs[1].imshow(res, cmap='gray')\n",
        "axs[0].set_title('Scaled Iamge')\n"
      ],
      "metadata": {
        "id": "XOlDA3lotWZp"
      },
      "execution_count": null,
      "outputs": []
    },
    {
      "cell_type": "code",
      "source": [
        "plt.close()"
      ],
      "metadata": {
        "id": "_9Vcdcu6taJk"
      },
      "execution_count": null,
      "outputs": []
    },
    {
      "cell_type": "code",
      "source": [
        "M = np.float32([[1,0,0],[0,1,500]])"
      ],
      "metadata": {
        "id": "KtgXo7nwtgIz"
      },
      "execution_count": null,
      "outputs": []
    },
    {
      "cell_type": "code",
      "source": [
        "rows,cols = img.shape"
      ],
      "metadata": {
        "id": "X0gG6E5otjfX"
      },
      "execution_count": null,
      "outputs": []
    },
    {
      "cell_type": "code",
      "source": [
        "dst = cv.warpAffine(img,M,(cols,rows))"
      ],
      "metadata": {
        "id": "Itcgk_KRtmBo"
      },
      "execution_count": null,
      "outputs": []
    },
    {
      "cell_type": "code",
      "source": [
        "fig, axs = plt.subplots(1, 2, figsize=(15, 10))\n",
        "axs[0].imshow(img, cmap='gray')\n",
        "axs[0].set_title('Original Iamge')\n",
        "axs[1].imshow(dst, cmap='gray')\n",
        "axs[0].set_title('Translated Iamge')\n"
      ],
      "metadata": {
        "id": "tP77yoRRtoDF"
      },
      "execution_count": null,
      "outputs": []
    },
    {
      "cell_type": "code",
      "source": [
        "plt.close()"
      ],
      "metadata": {
        "id": "rxO_XPGftti9"
      },
      "execution_count": null,
      "outputs": []
    },
    {
      "cell_type": "code",
      "source": [
        "M = cv.getRotationMatrix2D(((cols-1)/2.0,(rows-1)/2.0),-30,1)"
      ],
      "metadata": {
        "id": "ectEiFDytw5N"
      },
      "execution_count": null,
      "outputs": []
    },
    {
      "cell_type": "code",
      "source": [
        "M"
      ],
      "metadata": {
        "id": "amboHVG3tz89"
      },
      "execution_count": null,
      "outputs": []
    },
    {
      "cell_type": "code",
      "source": [
        "dst = cv.warpAffine(img,M,(cols,rows))"
      ],
      "metadata": {
        "id": "DMkWOuK4t2HH"
      },
      "execution_count": null,
      "outputs": []
    },
    {
      "cell_type": "code",
      "source": [
        "fig, axs = plt.subplots(1, 2, figsize=(15, 10))\n",
        "axs[0].imshow(img, cmap='gray')\n",
        "axs[0].set_title('Original Iamge')\n",
        "axs[1].imshow(dst, cmap='gray')\n",
        "axs[1].set_title('Rotated Iamge')"
      ],
      "metadata": {
        "id": "ELwcY2MIt4Po"
      },
      "execution_count": null,
      "outputs": []
    },
    {
      "cell_type": "code",
      "source": [
        "plt.close()\n",
        "del ds"
      ],
      "metadata": {
        "id": "9YD16inmt7FG"
      },
      "execution_count": null,
      "outputs": []
    },
    {
      "cell_type": "code",
      "source": [
        "file_name = 'BAND4.tif'\n",
        "ds = gdal.Open(file_name)"
      ],
      "metadata": {
        "id": "NdAHU7CDt9TO"
      },
      "execution_count": null,
      "outputs": []
    },
    {
      "cell_type": "code",
      "source": [
        "img = ds.ReadAsArray()"
      ],
      "metadata": {
        "id": "5OKAX2dEuCyF"
      },
      "execution_count": null,
      "outputs": []
    },
    {
      "cell_type": "code",
      "source": [
        "img.max()"
      ],
      "metadata": {
        "id": "MlxtQBSNuE5K"
      },
      "execution_count": null,
      "outputs": []
    },
    {
      "cell_type": "code",
      "source": [
        "negative_img = img.max() - img"
      ],
      "metadata": {
        "id": "4uBc40MFuIWW"
      },
      "execution_count": null,
      "outputs": []
    },
    {
      "cell_type": "code",
      "source": [
        "fig, axs = plt.subplots(1, 2, figsize=(15, 10))\n",
        "axs[0].imshow(img, cmap='gray')\n",
        "axs[0].set_title('Original Iamge')\n",
        "axs[1].imshow(negative_img, cmap='gray')\n",
        "axs[1].set_title('Negative Iamge')"
      ],
      "metadata": {
        "id": "SXY1GPxjuJB5"
      },
      "execution_count": null,
      "outputs": []
    },
    {
      "cell_type": "code",
      "source": [
        "plt.close()"
      ],
      "metadata": {
        "id": "zAADy8ihuNS7"
      },
      "execution_count": null,
      "outputs": []
    },
    {
      "cell_type": "code",
      "source": [
        "log_img = 1 * np.log( 1 + img)"
      ],
      "metadata": {
        "id": "Z6ETpaPduP4U"
      },
      "execution_count": null,
      "outputs": []
    },
    {
      "cell_type": "code",
      "source": [
        "fig, axs = plt.subplots(1, 2, figsize=(15, 10))\n",
        "axs[0].imshow(img, cmap='gray')\n",
        "axs[0].set_title('Original Image')\n",
        "axs[1].imshow(log_img, cmap='gray')\n",
        "axs[1].set_title('Log Image')"
      ],
      "metadata": {
        "id": "cHCObRATuTNl"
      },
      "execution_count": null,
      "outputs": []
    },
    {
      "cell_type": "code",
      "source": [
        "plt.close()"
      ],
      "metadata": {
        "id": "R8lLsHlfuXtT"
      },
      "execution_count": null,
      "outputs": []
    },
    {
      "cell_type": "code",
      "source": [
        "power_img = 1 * np.power(img, 0.01)"
      ],
      "metadata": {
        "id": "iYxjZmp6uZ6W"
      },
      "execution_count": null,
      "outputs": []
    },
    {
      "cell_type": "code",
      "source": [
        "fig, axs = plt.subplots(1, 2, figsize=(15, 10))\n",
        "axs[0].imshow(img, cmap='gray')\n",
        "axs[0].set_title('Original Image')\n",
        "axs[1].imshow(power_img, cmap='gray')\n",
        "axs[1].set_title('Power Image')"
      ],
      "metadata": {
        "id": "8eD9PBdsub6G"
      },
      "execution_count": null,
      "outputs": []
    },
    {
      "cell_type": "code",
      "source": [
        "ds = gdal.Open('/content/sample_image.jpg')"
      ],
      "metadata": {
        "id": "ly6yOTqouevH"
      },
      "execution_count": null,
      "outputs": []
    },
    {
      "cell_type": "code",
      "source": [
        "data = ds.ReadAsArray(band_list=[1])"
      ],
      "metadata": {
        "id": "0yUA7lIrui_D"
      },
      "execution_count": null,
      "outputs": []
    },
    {
      "cell_type": "code",
      "source": [
        "plt.imshow(data, cmap='gray')"
      ],
      "metadata": {
        "id": "0riG3H6Xuk6y"
      },
      "execution_count": null,
      "outputs": []
    },
    {
      "cell_type": "code",
      "source": [
        "plt.close()"
      ],
      "metadata": {
        "id": "QZCMG1s8um36"
      },
      "execution_count": null,
      "outputs": []
    },
    {
      "cell_type": "code",
      "source": [
        "power_img_3 = 1 * np.power(data, 3.)\n",
        "power_img_4 = 1 * np.power(data, 4.)\n",
        "power_img_5 = 1 * np.power(data, 5.)\n"
      ],
      "metadata": {
        "id": "66iVanWzuqmI"
      },
      "execution_count": null,
      "outputs": []
    },
    {
      "cell_type": "code",
      "source": [
        "fig, axs = plt.subplots(2, 2, figsize=(15, 10))\n",
        "fig.set_tight_layout(True)\n",
        "axs[0, 0].imshow(data, cmap='gray')\n",
        "axs[0, 0].set_title('Original Image')\n",
        "\n",
        "axs[0, 1].imshow(power_img_3, cmap='gray')\n",
        "axs[0, 1].set_title('Gamma-3')\n",
        "\n",
        "axs[1, 0].imshow(power_img_4, cmap='gray')\n",
        "axs[1, 0].set_title('Gamma-4')\n",
        "\n",
        "axs[1, 1].imshow(power_img_4, cmap='gray')\n",
        "axs[1, 1].set_title('Gamma-5')"
      ],
      "metadata": {
        "id": "Y0lIRj3fuskm"
      },
      "execution_count": null,
      "outputs": []
    },
    {
      "cell_type": "code",
      "source": [
        "plt.close()"
      ],
      "metadata": {
        "id": "b64v7WLEuvF4"
      },
      "execution_count": null,
      "outputs": []
    },
    {
      "cell_type": "code",
      "source": [
        "green_data = gdal.Open('BAND2.tif').ReadAsArray() * 1.\n",
        "nir_data = gdal.Open('BAND4.tif').ReadAsArray() * 1."
      ],
      "metadata": {
        "id": "5VNUsa8Kuydf"
      },
      "execution_count": null,
      "outputs": []
    },
    {
      "cell_type": "code",
      "source": [
        "ndwi = (green_data - nir_data) / (green_data + nir_data)"
      ],
      "metadata": {
        "id": "EakKxyFQu0V7"
      },
      "execution_count": null,
      "outputs": []
    },
    {
      "cell_type": "code",
      "source": [
        "plt.imshow(ndwi, cmap='gray')\n",
        "plt.colorbar()"
      ],
      "metadata": {
        "id": "i02itPtqu2CN"
      },
      "execution_count": null,
      "outputs": []
    },
    {
      "cell_type": "code",
      "source": [
        "ret,th1 = cv.threshold(ndwi,0.1,255,cv.THRESH_BINARY)"
      ],
      "metadata": {
        "id": "pwADluvVu3x4"
      },
      "execution_count": null,
      "outputs": []
    },
    {
      "cell_type": "code",
      "source": [
        "fig, axs = plt.subplots(1, 2, figsize=(15, 10))\n",
        "axs[0].imshow(ndwi, cmap='gray')\n",
        "axs[0].set_title('NDWI Image')\n",
        "axs[1].imshow(th1, cmap='gray')\n",
        "axs[1].set_title('Binary Image')"
      ],
      "metadata": {
        "id": "fDv-f4zuu6tN"
      },
      "execution_count": null,
      "outputs": []
    },
    {
      "cell_type": "code",
      "source": [
        "plt.close()"
      ],
      "metadata": {
        "id": "gbkQ2mH0u9aG"
      },
      "execution_count": null,
      "outputs": []
    },
    {
      "cell_type": "code",
      "source": [
        "file_name = 'BAND3.tif'\n",
        "ds = gdal.Open(file_name)"
      ],
      "metadata": {
        "id": "qH2arzIlvAnM"
      },
      "execution_count": null,
      "outputs": []
    },
    {
      "cell_type": "code",
      "source": [
        "img = ds.ReadAsArray()\n",
        "img = img.clip(0, 100)"
      ],
      "metadata": {
        "id": "kZzfIVG8vDap"
      },
      "execution_count": null,
      "outputs": []
    },
    {
      "cell_type": "code",
      "source": [
        "plt.imshow(img, cmap='gray')"
      ],
      "metadata": {
        "id": "n451Y7VrvFJC"
      },
      "execution_count": null,
      "outputs": []
    },
    {
      "cell_type": "code",
      "source": [
        "plt.hist(img.ravel(),256,[0,256]); plt.show()"
      ],
      "metadata": {
        "id": "YtiNIa9MvHnI"
      },
      "execution_count": null,
      "outputs": []
    },
    {
      "cell_type": "code",
      "source": [
        "    min_val = np.min(img)\n",
        "    max_val = np.max(img)\n",
        "\n",
        "    # Apply contrast stretching\n",
        "    stretched_image = (img - min_val) * (255 / (max_val - min_val))\n",
        "    stretched_image = stretched_image.astype(np.uint8)"
      ],
      "metadata": {
        "id": "77NriuF-vJdP"
      },
      "execution_count": null,
      "outputs": []
    },
    {
      "cell_type": "code",
      "source": [
        "plt.hist(stretched_image.ravel(),256,[0,256]); plt.show()"
      ],
      "metadata": {
        "id": "8wnoxYISvXZr"
      },
      "execution_count": null,
      "outputs": []
    },
    {
      "cell_type": "code",
      "source": [
        "plt.imshow(stretched_image, cmap='gray')"
      ],
      "metadata": {
        "id": "Z4l6NyNjvb3E"
      },
      "execution_count": null,
      "outputs": []
    },
    {
      "cell_type": "code",
      "source": [
        "file_name = 'BAND2.tif'\n",
        "ds = gdal.Open(file_name)"
      ],
      "metadata": {
        "id": "3Jb8s_KCveKO"
      },
      "execution_count": null,
      "outputs": []
    },
    {
      "cell_type": "code",
      "source": [
        "img = ds.ReadAsArray()"
      ],
      "metadata": {
        "id": "k_ooTOdmvgu4"
      },
      "execution_count": null,
      "outputs": []
    },
    {
      "cell_type": "code",
      "source": [
        "hist,bins = np.histogram(img.flatten(),256)"
      ],
      "metadata": {
        "id": "B1cI4xE7vi34"
      },
      "execution_count": null,
      "outputs": []
    },
    {
      "cell_type": "code",
      "source": [
        "cdf = hist.cumsum()\n",
        "cdf_normalized = cdf * float(hist.max()) / cdf.max()"
      ],
      "metadata": {
        "id": "GVB-Nk5uvlcm"
      },
      "execution_count": null,
      "outputs": []
    },
    {
      "cell_type": "code",
      "source": [
        "plt.plot(cdf_normalized, color = 'b')\n",
        "plt.hist(img.ravel(),256, color = 'r')\n",
        "plt.xlim([0,256])\n",
        "plt.legend(('cdf','histogram'), loc = 'upper left')\n",
        "plt.show()"
      ],
      "metadata": {
        "id": "XCcxcAUQvndc"
      },
      "execution_count": null,
      "outputs": []
    },
    {
      "cell_type": "code",
      "source": [
        "cdf_m = np.ma.masked_equal(cdf,0)\n",
        "cdf_m = (cdf_m - cdf_m.min())*255/(cdf_m.max()-cdf_m.min())\n",
        "cdf = np.ma.filled(cdf_m,0).astype('uint8')"
      ],
      "metadata": {
        "id": "MbrJepy4vqo0"
      },
      "execution_count": null,
      "outputs": []
    },
    {
      "cell_type": "code",
      "source": [
        "img2 = cdf[img]"
      ],
      "metadata": {
        "id": "vKxys_yKvsXg"
      },
      "execution_count": null,
      "outputs": []
    },
    {
      "cell_type": "code",
      "source": [
        "hist,bins = np.histogram(img2.flatten(),256)"
      ],
      "metadata": {
        "id": "EptddZcXvvFd"
      },
      "execution_count": null,
      "outputs": []
    },
    {
      "cell_type": "code",
      "source": [
        "hist,bins = np.histogram(img2.flatten(),256)\n",
        "\n",
        "cdf = hist.cumsum()\n",
        "cdf_normalized = cdf * float(hist.max()) / cdf.max()\n",
        "\n",
        "plt.plot(cdf_normalized, color = 'b')\n",
        "plt.hist(img2.flatten(),256, color = 'r')\n",
        "plt.xlim([0,256])\n",
        "plt.legend(('cdf','histogram'), loc = 'upper left')\n",
        "plt.show()"
      ],
      "metadata": {
        "id": "uV3YxFqkvw6Y"
      },
      "execution_count": null,
      "outputs": []
    },
    {
      "cell_type": "code",
      "source": [
        "plt.imshow(img2, cmap='gray')\n",
        "plt.colorbar()"
      ],
      "metadata": {
        "id": "1nK0PAnpvy48"
      },
      "execution_count": null,
      "outputs": []
    },
    {
      "cell_type": "code",
      "source": [
        "data = cv.imread('/content/noisy_image.jpg')\n",
        "#data = cv.cvtColor(data, cv.COLOR_BGR2RGB)"
      ],
      "metadata": {
        "id": "RH14sTYCv33J"
      },
      "execution_count": null,
      "outputs": []
    },
    {
      "cell_type": "code",
      "source": [
        "kernel = np.ones((5,5),np.float32)/25\n",
        "blur = cv.filter2D(data,-1,kernel)"
      ],
      "metadata": {
        "id": "iK0YhQrVv57z"
      },
      "execution_count": null,
      "outputs": []
    },
    {
      "cell_type": "code",
      "source": [
        "fig, axs = plt.subplots(1, 2, figsize=(15, 10))\n",
        "plt.subplot(121),plt.imshow(data)\n",
        "plt.title('Original')\n",
        "plt.xticks([]), plt.yticks([])\n",
        "plt.subplot(122)\n",
        "plt.imshow(blur)\n",
        "plt.title('Blurred')\n",
        "plt.xticks([]), plt.yticks([])\n",
        "plt.show()"
      ],
      "metadata": {
        "id": "R4R8FLp_v7vn"
      },
      "execution_count": null,
      "outputs": []
    },
    {
      "cell_type": "code",
      "source": [
        "blur = cv.GaussianBlur(data,(5,5),0)"
      ],
      "metadata": {
        "id": "XIjC7kTQv-4O"
      },
      "execution_count": null,
      "outputs": []
    },
    {
      "cell_type": "code",
      "source": [],
      "metadata": {
        "id": "gj2-czlBwBqp"
      },
      "execution_count": null,
      "outputs": []
    },
    {
      "cell_type": "code",
      "source": [],
      "metadata": {
        "id": "IFivpzDfwBpB"
      },
      "execution_count": null,
      "outputs": []
    },
    {
      "cell_type": "code",
      "source": [
        "fig, axs = plt.subplots(1, 2, figsize=(15, 10))\n",
        "plt.subplot(121),plt.imshow(data)\n",
        "plt.title('Original')\n",
        "plt.xticks([]), plt.yticks([])\n",
        "plt.subplot(122)\n",
        "plt.imshow(blur)\n",
        "plt.title('Blurred')\n",
        "plt.xticks([]), plt.yticks([])\n",
        "plt.show()"
      ],
      "metadata": {
        "id": "P0BIiYYMwBmz"
      },
      "execution_count": null,
      "outputs": []
    },
    {
      "cell_type": "code",
      "source": [
        "plt.imshow(noisy_image)"
      ],
      "metadata": {
        "id": "oAY_CcrJwFG3"
      },
      "execution_count": null,
      "outputs": []
    },
    {
      "cell_type": "code",
      "source": [
        "median = cv.medianBlur(noisy_image,11)"
      ],
      "metadata": {
        "id": "CR4geP4OwI-u"
      },
      "execution_count": null,
      "outputs": []
    },
    {
      "cell_type": "code",
      "source": [
        "fig, axs = plt.subplots(1, 2, figsize=(15, 10))\n",
        "plt.subplot(121),plt.imshow(noisy_image)\n",
        "plt.title('Original')\n",
        "plt.xticks([]), plt.yticks([])\n",
        "plt.subplot(122)\n",
        "plt.imshow(median)\n",
        "plt.title('Smoothened')\n",
        "plt.xticks([]), plt.yticks([])\n",
        "plt.show()"
      ],
      "metadata": {
        "id": "aO-ldzKqwK-k"
      },
      "execution_count": null,
      "outputs": []
    },
    {
      "cell_type": "code",
      "source": [],
      "metadata": {
        "id": "0Gnf_bTGwNUQ"
      },
      "execution_count": null,
      "outputs": []
    }
  ]
}