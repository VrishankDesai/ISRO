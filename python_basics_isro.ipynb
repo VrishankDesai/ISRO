{
  "nbformat": 4,
  "nbformat_minor": 0,
  "metadata": {
    "colab": {
      "provenance": [],
      "authorship_tag": "ABX9TyOF7EjHgsDMua7aY7OX51Og",
      "include_colab_link": true
    },
    "kernelspec": {
      "name": "python3",
      "display_name": "Python 3"
    },
    "language_info": {
      "name": "python"
    }
  },
  "cells": [
    {
      "cell_type": "markdown",
      "metadata": {
        "id": "view-in-github",
        "colab_type": "text"
      },
      "source": [
        "<a href=\"https://colab.research.google.com/github/VrishankDesai/ISRO/blob/main/python_basics_isro.ipynb\" target=\"_parent\"><img src=\"https://colab.research.google.com/assets/colab-badge.svg\" alt=\"Open In Colab\"/></a>"
      ]
    },
    {
      "cell_type": "code",
      "execution_count": null,
      "metadata": {
        "id": "M1jgdI5ml4iV"
      },
      "outputs": [],
      "source": [
        "message=\"Hello python!\""
      ]
    },
    {
      "cell_type": "code",
      "source": [
        "type(message)"
      ],
      "metadata": {
        "colab": {
          "base_uri": "https://localhost:8080/"
        },
        "id": "CuUDmNY5miWe",
        "outputId": "a901e7c2-f200-46ee-d9d4-f0d821d5520c"
      },
      "execution_count": null,
      "outputs": [
        {
          "output_type": "execute_result",
          "data": {
            "text/plain": [
              "str"
            ]
          },
          "metadata": {},
          "execution_count": 3
        }
      ]
    },
    {
      "cell_type": "code",
      "source": [
        "print(message)"
      ],
      "metadata": {
        "colab": {
          "base_uri": "https://localhost:8080/"
        },
        "id": "5n1lhquhmnxH",
        "outputId": "df300757-4382-4ce0-c3be-e13c24ed97a5"
      },
      "execution_count": null,
      "outputs": [
        {
          "output_type": "stream",
          "name": "stdout",
          "text": [
            "Hello python!\n"
          ]
        }
      ]
    },
    {
      "cell_type": "code",
      "source": [
        "import random"
      ],
      "metadata": {
        "id": "x4msaQHCnAfA"
      },
      "execution_count": null,
      "outputs": []
    },
    {
      "cell_type": "code",
      "source": [
        "random.randint(1,100)"
      ],
      "metadata": {
        "colab": {
          "base_uri": "https://localhost:8080/"
        },
        "id": "87ZsEQRWnEph",
        "outputId": "cbcde418-7556-4651-c568-090391180474"
      },
      "execution_count": null,
      "outputs": [
        {
          "output_type": "execute_result",
          "data": {
            "text/plain": [
              "89"
            ]
          },
          "metadata": {},
          "execution_count": 8
        }
      ]
    },
    {
      "cell_type": "code",
      "source": [
        "from pathlib import Path\n",
        "from math import pow"
      ],
      "metadata": {
        "id": "PpPi5l4lnWKY"
      },
      "execution_count": null,
      "outputs": []
    },
    {
      "cell_type": "code",
      "source": [
        "rate=10\n",
        "principal=1000\n",
        "time=3"
      ],
      "metadata": {
        "id": "WtG0UOXVnj7y"
      },
      "execution_count": null,
      "outputs": []
    },
    {
      "cell_type": "code",
      "source": [
        "interest=(rate*principal*time)/100"
      ],
      "metadata": {
        "id": "w88BJPZNnsvd"
      },
      "execution_count": null,
      "outputs": []
    },
    {
      "cell_type": "code",
      "source": [
        "print(interest)"
      ],
      "metadata": {
        "colab": {
          "base_uri": "https://localhost:8080/"
        },
        "id": "NcGunuJRn4_t",
        "outputId": "f76781de-3a96-40c0-9e2a-f6f1618be338"
      },
      "execution_count": null,
      "outputs": [
        {
          "output_type": "stream",
          "name": "stdout",
          "text": [
            "300.0\n"
          ]
        }
      ]
    },
    {
      "cell_type": "code",
      "source": [
        "x=10.0\n",
        "print(type(x))\n",
        "x=True\n",
        "print(type(x))\n",
        "y=False\n",
        "print(type(y))"
      ],
      "metadata": {
        "id": "G_YwabEx7a0P",
        "colab": {
          "base_uri": "https://localhost:8080/"
        },
        "outputId": "3f619812-6f58-4e1b-f694-548c6b3c3a35"
      },
      "execution_count": null,
      "outputs": [
        {
          "output_type": "stream",
          "name": "stdout",
          "text": [
            "<class 'float'>\n",
            "<class 'bool'>\n",
            "<class 'bool'>\n"
          ]
        }
      ]
    },
    {
      "cell_type": "code",
      "source": [
        "seconds=1042\n",
        "display_minutes=1042//60\n",
        "display_seconds=1042 % 60\n",
        "print(display_minutes)\n",
        "print(display_seconds)"
      ],
      "metadata": {
        "colab": {
          "base_uri": "https://localhost:8080/"
        },
        "id": "GIVEbQSak9A6",
        "outputId": "e795d3dd-0e1e-49fe-f395-d470a3654fdc"
      },
      "execution_count": null,
      "outputs": [
        {
          "output_type": "stream",
          "name": "stdout",
          "text": [
            "17\n",
            "22\n"
          ]
        }
      ]
    },
    {
      "cell_type": "code",
      "source": [
        "x=12\n",
        "if x<10:\n",
        "  print(\"x is lesser than 10\")\n",
        "print(\"conditional statements\")"
      ],
      "metadata": {
        "colab": {
          "base_uri": "https://localhost:8080/"
        },
        "id": "sCLFOUTwmsTZ",
        "outputId": "6399a2c1-2202-4626-9a78-67d4fb133e92"
      },
      "execution_count": null,
      "outputs": [
        {
          "output_type": "stream",
          "name": "stdout",
          "text": [
            "conditional statements\n"
          ]
        }
      ]
    },
    {
      "cell_type": "code",
      "source": [
        "moon=\"Moon has a radius of 1080 miles\"\n",
        "print(moon)"
      ],
      "metadata": {
        "colab": {
          "base_uri": "https://localhost:8080/"
        },
        "id": "A2N8xiO4nOpL",
        "outputId": "92d50126-70b4-4552-c17c-57fcd2156764"
      },
      "execution_count": null,
      "outputs": [
        {
          "output_type": "stream",
          "name": "stdout",
          "text": [
            "Moon has a radius of 1080 miles\n"
          ]
        }
      ]
    },
    {
      "cell_type": "code",
      "source": [
        "planets=[\"Mercury\",\"Venus\",\"earth\",\"Mars\",\"jupiter\",\"saturn\",\"uranus\",\"neptune\"]\n",
        "print(\"First planet is: \",planets[0])\n",
        "print(\"fifth planet is: \",planets[4])"
      ],
      "metadata": {
        "colab": {
          "base_uri": "https://localhost:8080/"
        },
        "id": "gYNPQi19oSoV",
        "outputId": "140422d0-309c-4d7a-e6d7-d315170077b6"
      },
      "execution_count": null,
      "outputs": [
        {
          "output_type": "stream",
          "name": "stdout",
          "text": [
            "First planet is:  Mercury\n",
            "fifth planet is:  jupiter\n"
          ]
        }
      ]
    },
    {
      "cell_type": "code",
      "source": [
        "t=1,2,'abcd'\n",
        "x=y=z=t\n",
        "print(x)\n",
        "print(y)\n",
        "print(z)"
      ],
      "metadata": {
        "colab": {
          "base_uri": "https://localhost:8080/"
        },
        "id": "zav_LA5SpOPo",
        "outputId": "e96ca97c-3321-43fc-f7b7-56d0657049b9"
      },
      "execution_count": null,
      "outputs": [
        {
          "output_type": "stream",
          "name": "stdout",
          "text": [
            "(1, 2, 'abcd')\n",
            "(1, 2, 'abcd')\n",
            "(1, 2, 'abcd')\n"
          ]
        }
      ]
    },
    {
      "cell_type": "code",
      "source": [
        "telephone={'jack':123,'sape':456,'alpha':789}\n",
        "telephone\n",
        "telephone['jack']\n",
        "telephone['alpha']\n",
        "telephone"
      ],
      "metadata": {
        "colab": {
          "base_uri": "https://localhost:8080/"
        },
        "id": "pXx2QbGvqWMQ",
        "outputId": "15d22283-b08a-4369-dc3f-5817d99c853a"
      },
      "execution_count": null,
      "outputs": [
        {
          "output_type": "execute_result",
          "data": {
            "text/plain": [
              "{'jack': 123, 'sape': 456, 'alpha': 789}"
            ]
          },
          "metadata": {},
          "execution_count": 12
        }
      ]
    }
  ]
}